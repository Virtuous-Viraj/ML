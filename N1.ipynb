{
 "cells": [
  {
   "cell_type": "code",
   "execution_count": 5,
   "id": "b453ea00",
   "metadata": {},
   "outputs": [
    {
     "name": "stdout",
     "output_type": "stream",
     "text": [
      "Hello World\n"
     ]
    },
    {
     "data": {
      "text/plain": [
       "10"
      ]
     },
     "execution_count": 5,
     "metadata": {},
     "output_type": "execute_result"
    }
   ],
   "source": [
    "print(\"Hello World\")\n",
    "10"
   ]
  },
  {
   "cell_type": "markdown",
   "id": "a8e980d4",
   "metadata": {},
   "source": [
    "## Intro to Python"
   ]
  },
  {
   "cell_type": "code",
   "execution_count": 4,
   "id": "57a8523c",
   "metadata": {},
   "outputs": [
    {
     "name": "stdout",
     "output_type": "stream",
     "text": [
      "30\n"
     ]
    }
   ],
   "source": [
    "a = 10\n",
    "b = 20\n",
    "print(a+b)"
   ]
  },
  {
   "cell_type": "code",
   "execution_count": 6,
   "id": "3323f4bc",
   "metadata": {},
   "outputs": [
    {
     "name": "stdout",
     "output_type": "stream",
     "text": [
      "30\n"
     ]
    }
   ],
   "source": [
    "a = 10\n",
    "b = 20\n",
    "sum = a+b\n",
    "print(sum)"
   ]
  },
  {
   "cell_type": "code",
   "execution_count": 7,
   "id": "1e352261",
   "metadata": {},
   "outputs": [
    {
     "ename": "SyntaxError",
     "evalue": "invalid decimal literal (Temp/ipykernel_16212/3505675605.py, line 2)",
     "output_type": "error",
     "traceback": [
      "\u001b[1;36m  File \u001b[1;32m\"C:\\Users\\VIRAJ1~1\\AppData\\Local\\Temp/ipykernel_16212/3505675605.py\"\u001b[1;36m, line \u001b[1;32m2\u001b[0m\n\u001b[1;33m    1abc = 20\u001b[0m\n\u001b[1;37m    ^\u001b[0m\n\u001b[1;31mSyntaxError\u001b[0m\u001b[1;31m:\u001b[0m invalid decimal literal\n"
     ]
    }
   ],
   "source": [
    "abc_d = 10\n",
    "1abc = 20"
   ]
  },
  {
   "cell_type": "markdown",
   "id": "dabd2663",
   "metadata": {},
   "source": [
    "## Data Types in Python\n",
    "            "
   ]
  },
  {
   "cell_type": "code",
   "execution_count": null,
   "id": "6cc1e497",
   "metadata": {},
   "outputs": [],
   "source": []
  },
  {
   "cell_type": "code",
   "execution_count": 8,
   "id": "446918fe",
   "metadata": {},
   "outputs": [],
   "source": [
    "a = 10\n",
    "a = 20\n",
    "a = \"hello\""
   ]
  },
  {
   "cell_type": "code",
   "execution_count": 9,
   "id": "4daa5fd6",
   "metadata": {},
   "outputs": [
    {
     "data": {
      "text/plain": [
       "str"
      ]
     },
     "execution_count": 9,
     "metadata": {},
     "output_type": "execute_result"
    }
   ],
   "source": [
    "type(a)"
   ]
  },
  {
   "cell_type": "code",
   "execution_count": 10,
   "id": "0eaec029",
   "metadata": {},
   "outputs": [
    {
     "data": {
      "text/plain": [
       "float"
      ]
     },
     "execution_count": 10,
     "metadata": {},
     "output_type": "execute_result"
    }
   ],
   "source": [
    "type(2.0)"
   ]
  },
  {
   "cell_type": "code",
   "execution_count": 11,
   "id": "c93aa987",
   "metadata": {},
   "outputs": [
    {
     "data": {
      "text/plain": [
       "int"
      ]
     },
     "execution_count": 11,
     "metadata": {},
     "output_type": "execute_result"
    }
   ],
   "source": [
    "type(3)"
   ]
  },
  {
   "cell_type": "code",
   "execution_count": 12,
   "id": "1ab396ce",
   "metadata": {},
   "outputs": [
    {
     "data": {
      "text/plain": [
       "int"
      ]
     },
     "execution_count": 12,
     "metadata": {},
     "output_type": "execute_result"
    }
   ],
   "source": [
    "type(1000000000000000000000000000000000000000000000000000)"
   ]
  },
  {
   "cell_type": "markdown",
   "id": "8bbbd4fa",
   "metadata": {},
   "source": [
    "# Numbers  in Python"
   ]
  },
  {
   "cell_type": "code",
   "execution_count": 13,
   "id": "2ba2d2fe",
   "metadata": {},
   "outputs": [
    {
     "name": "stdout",
     "output_type": "stream",
     "text": [
      "<class 'int'>\n",
      "<class 'float'>\n",
      "<class 'complex'>\n"
     ]
    }
   ],
   "source": [
    "a = 23\n",
    "b = 2.5\n",
    "c = 4 + 5j\n",
    "\n",
    "print(type(a))\n",
    "print(type(b))\n",
    "print(type(c))"
   ]
  },
  {
   "cell_type": "code",
   "execution_count": 14,
   "id": "39c0d9ee",
   "metadata": {},
   "outputs": [
    {
     "name": "stdout",
     "output_type": "stream",
     "text": [
      "2689209861040\n",
      "2689209861072\n"
     ]
    }
   ],
   "source": [
    "a = 23\n",
    "print(id(a))\n",
    "a = a+1\n",
    "print(id(a))"
   ]
  },
  {
   "cell_type": "code",
   "execution_count": 15,
   "id": "deaf7d68",
   "metadata": {},
   "outputs": [
    {
     "name": "stdout",
     "output_type": "stream",
     "text": [
      "2689209860624\n",
      "2689209860624\n"
     ]
    }
   ],
   "source": [
    "a = 10\n",
    "b = 10\n",
    "print(id(a))\n",
    "print(id(b))"
   ]
  },
  {
   "cell_type": "code",
   "execution_count": 16,
   "id": "a44dd862",
   "metadata": {},
   "outputs": [
    {
     "name": "stdout",
     "output_type": "stream",
     "text": [
      "2689286496240\n",
      "2689286495920\n"
     ]
    }
   ],
   "source": [
    "a = 1000\n",
    "b = 1000\n",
    "print(id(a))\n",
    "print(id(b))"
   ]
  },
  {
   "cell_type": "markdown",
   "id": "a965e163",
   "metadata": {},
   "source": [
    "# Operators In Python"
   ]
  },
  {
   "cell_type": "code",
   "execution_count": 18,
   "id": "a0cb1fd1",
   "metadata": {},
   "outputs": [
    {
     "name": "stdout",
     "output_type": "stream",
     "text": [
      "6\n",
      "14\n",
      "40\n",
      "2\n",
      "10000\n",
      "2.5\n",
      "2\n"
     ]
    }
   ],
   "source": [
    "a = 10\n",
    "b = 4\n",
    "print(a-b)\n",
    "print(a+b)\n",
    "print(a*b)\n",
    "print(a%b)\n",
    "print(a**b)\n",
    "print(a/b) #floating point division\n",
    "print(a//b) #prints integer divisions"
   ]
  },
  {
   "cell_type": "code",
   "execution_count": 19,
   "id": "d465c1d8",
   "metadata": {},
   "outputs": [
    {
     "name": "stdout",
     "output_type": "stream",
     "text": [
      "14\n"
     ]
    }
   ],
   "source": [
    "print(2+3*4) # * is executed first"
   ]
  },
  {
   "cell_type": "code",
   "execution_count": 20,
   "id": "f6111a6b",
   "metadata": {},
   "outputs": [
    {
     "name": "stdout",
     "output_type": "stream",
     "text": [
      "1.5\n"
     ]
    }
   ],
   "source": [
    "print(2*3/4) # doesnt matter which opearation is done first"
   ]
  },
  {
   "cell_type": "code",
   "execution_count": 21,
   "id": "5da8843e",
   "metadata": {},
   "outputs": [
    {
     "name": "stdout",
     "output_type": "stream",
     "text": [
      "1\n"
     ]
    }
   ],
   "source": [
    "print(2*3//5) #does multiplication first"
   ]
  },
  {
   "cell_type": "code",
   "execution_count": 22,
   "id": "1a276712",
   "metadata": {},
   "outputs": [
    {
     "name": "stdout",
     "output_type": "stream",
     "text": [
      "82.22222222222223\n"
     ]
    }
   ],
   "source": [
    "#convert farenheit to degree celsius\n",
    "f  = 100\n",
    "c = f - 32 * 5 / 9\n",
    "print(c)"
   ]
  },
  {
   "cell_type": "code",
   "execution_count": 23,
   "id": "895d49cb",
   "metadata": {},
   "outputs": [
    {
     "name": "stdout",
     "output_type": "stream",
     "text": [
      "37.77777777777778\n"
     ]
    }
   ],
   "source": [
    "#convert right way\n",
    "f = 100\n",
    "c = (f - 32) * 5 / 9\n",
    "print(c)"
   ]
  },
  {
   "cell_type": "markdown",
   "id": "0dd2c9aa",
   "metadata": {},
   "source": [
    "## Input"
   ]
  },
  {
   "cell_type": "code",
   "execution_count": 24,
   "id": "f5cf43bd",
   "metadata": {},
   "outputs": [
    {
     "name": "stdout",
     "output_type": "stream",
     "text": [
      "23\n",
      "23\n",
      "2323\n"
     ]
    }
   ],
   "source": [
    "a = input()\n",
    "b = input()\n",
    "print(a+b)"
   ]
  },
  {
   "cell_type": "code",
   "execution_count": 26,
   "id": "755dc8d0",
   "metadata": {},
   "outputs": [
    {
     "name": "stdout",
     "output_type": "stream",
     "text": [
      "23\n",
      "34\n",
      "57\n"
     ]
    }
   ],
   "source": [
    "a = int(input())\n",
    "b = int(input())\n",
    "print(a+b)"
   ]
  },
  {
   "cell_type": "code",
   "execution_count": 2,
   "id": "62995c5a",
   "metadata": {},
   "outputs": [
    {
     "name": "stdout",
     "output_type": "stream",
     "text": [
      "33\n",
      "44\n",
      "55\n",
      "44.0\n"
     ]
    }
   ],
   "source": [
    "a = int(input())\n",
    "b = int(input())\n",
    "c = int(input())\n",
    "\n",
    "print((a+b+c)/3)"
   ]
  },
  {
   "cell_type": "markdown",
   "id": "7ca0b846",
   "metadata": {},
   "source": [
    "# Boolean Data Types"
   ]
  },
  {
   "cell_type": "code",
   "execution_count": 29,
   "id": "818820bc",
   "metadata": {},
   "outputs": [
    {
     "name": "stdout",
     "output_type": "stream",
     "text": [
      "<class 'bool'>\n"
     ]
    }
   ],
   "source": [
    "a = True\n",
    "b = False\n",
    "print(type(a))"
   ]
  },
  {
   "cell_type": "code",
   "execution_count": 32,
   "id": "72ddc759",
   "metadata": {},
   "outputs": [
    {
     "name": "stdout",
     "output_type": "stream",
     "text": [
      "False\n",
      "True\n",
      "True\n",
      "False\n",
      "True\n",
      "False\n"
     ]
    }
   ],
   "source": [
    "a = 5\n",
    "b = 4\n",
    "print(a == b)\n",
    "print(a != b)\n",
    "print(a >= b)\n",
    "print(a <= b)\n",
    "print(a > b)\n",
    "print(a < b)"
   ]
  },
  {
   "cell_type": "code",
   "execution_count": 35,
   "id": "1880f0d7",
   "metadata": {},
   "outputs": [
    {
     "name": "stdout",
     "output_type": "stream",
     "text": [
      "True\n",
      "False\n",
      "False\n"
     ]
    }
   ],
   "source": [
    "a = True\n",
    "b = False\n",
    "print(a or b)\n",
    "print(a and b)\n",
    "print(not a)"
   ]
  },
  {
   "cell_type": "code",
   "execution_count": null,
   "id": "9be393b7",
   "metadata": {},
   "outputs": [],
   "source": []
  }
 ],
 "metadata": {
  "kernelspec": {
   "display_name": "Python 3 (ipykernel)",
   "language": "python",
   "name": "python3"
  },
  "language_info": {
   "codemirror_mode": {
    "name": "ipython",
    "version": 3
   },
   "file_extension": ".py",
   "mimetype": "text/x-python",
   "name": "python",
   "nbconvert_exporter": "python",
   "pygments_lexer": "ipython3",
   "version": "3.10.6"
  }
 },
 "nbformat": 4,
 "nbformat_minor": 5
}
