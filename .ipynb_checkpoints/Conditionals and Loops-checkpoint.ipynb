{
 "cells": [
  {
   "cell_type": "code",
   "execution_count": 3,
   "id": "8893d4e6",
   "metadata": {},
   "outputs": [
    {
     "name": "stdout",
     "output_type": "stream",
     "text": [
      "hi\n"
     ]
    }
   ],
   "source": [
    "if (5 > 4) :\n",
    "    print(\"hi\")"
   ]
  },
  {
   "cell_type": "code",
   "execution_count": 5,
   "id": "07befa38",
   "metadata": {},
   "outputs": [
    {
     "name": "stdout",
     "output_type": "stream",
     "text": [
      "6\n",
      "Green\n"
     ]
    }
   ],
   "source": [
    "n = int(input())\n",
    "\n",
    "if n > 10 :\n",
    "    print(\"Red\")\n",
    "elif n>= 5 :\n",
    "    print(\"Green\")\n",
    "elif n >= 0 :\n",
    "    print(\"Blue\")"
   ]
  },
  {
   "cell_type": "markdown",
   "id": "58eac2f7",
   "metadata": {},
   "source": [
    "# While Loops"
   ]
  },
  {
   "cell_type": "code",
   "execution_count": 8,
   "id": "de8a29e0",
   "metadata": {},
   "outputs": [
    {
     "name": "stdout",
     "output_type": "stream",
     "text": [
      "6\n",
      "7\n",
      "8\n",
      "9\n",
      "10\n",
      "11\n"
     ]
    }
   ],
   "source": [
    "a = int(input())\n",
    "\n",
    "while (a<=10) : \n",
    "    a = a + 1\n",
    "    print(a)"
   ]
  },
  {
   "cell_type": "code",
   "execution_count": 9,
   "id": "048f3303",
   "metadata": {},
   "outputs": [
    {
     "name": "stdout",
     "output_type": "stream",
     "text": [
      "10\n",
      "55.0\n"
     ]
    }
   ],
   "source": [
    "a = int(input())\n",
    "print(a*(a+1)/2)"
   ]
  },
  {
   "cell_type": "code",
   "execution_count": 34,
   "id": "b8b55e30",
   "metadata": {},
   "outputs": [
    {
     "name": "stdout",
     "output_type": "stream",
     "text": [
      "97\n",
      "Prime\n"
     ]
    }
   ],
   "source": [
    "n = int(input())\n",
    "if n==1 : \n",
    "    print(\"Not Prime\")\n",
    "else :\n",
    "    a = 2\n",
    "    flag = False\n",
    "    while a < n :\n",
    "        if n % a == 0 :\n",
    "            flag = True\n",
    "            print(\"Not Prime\")\n",
    "            break\n",
    "        a = a + 1;\n",
    "    if (flag == False) :\n",
    "        print(\"Prime\")"
   ]
  },
  {
   "cell_type": "code",
   "execution_count": 47,
   "id": "9d0c3ceb",
   "metadata": {},
   "outputs": [
    {
     "name": "stdout",
     "output_type": "stream",
     "text": [
      "5\n",
      "* * * * * \n",
      "* * * * * \n",
      "* * * * * \n",
      "* * * * * \n",
      "* * * * * \n"
     ]
    }
   ],
   "source": [
    "a = 0\n",
    "c = int(input())\n",
    "while a<c:\n",
    "    b = 0\n",
    "    while b<c:\n",
    "        print('*', end=\" \")\n",
    "        b = b + 1\n",
    "    print()\n",
    "    a = a + 1"
   ]
  },
  {
   "cell_type": "code",
   "execution_count": 50,
   "id": "d13f6c8b",
   "metadata": {},
   "outputs": [
    {
     "name": "stdout",
     "output_type": "stream",
     "text": [
      "5\n",
      "11111\n",
      "22222\n",
      "33333\n",
      "44444\n",
      "55555\n"
     ]
    }
   ],
   "source": [
    "a = 0\n",
    "c = int(input())\n",
    "while a<c:\n",
    "    b = 0\n",
    "    d = a+1\n",
    "    while b<c:\n",
    "        print(d, end=\"\")\n",
    "        b = b + 1\n",
    "    print()\n",
    "    a = a + 1"
   ]
  },
  {
   "cell_type": "code",
   "execution_count": 53,
   "id": "2fadc630",
   "metadata": {},
   "outputs": [
    {
     "name": "stdout",
     "output_type": "stream",
     "text": [
      "5\n",
      "12345\n",
      "12345\n",
      "12345\n",
      "12345\n",
      "12345\n"
     ]
    }
   ],
   "source": [
    "a = 0\n",
    "c = int(input())\n",
    "while a<c:\n",
    "    b = 1\n",
    "    while b<=c:\n",
    "        print(b, end=\"\")\n",
    "        b = b + 1\n",
    "    print()\n",
    "    a = a + 1"
   ]
  },
  {
   "cell_type": "code",
   "execution_count": 57,
   "id": "f7b2a153",
   "metadata": {},
   "outputs": [
    {
     "name": "stdout",
     "output_type": "stream",
     "text": [
      "4\n",
      "4321\n",
      "4321\n",
      "4321\n",
      "4321\n"
     ]
    }
   ],
   "source": [
    "a = 0\n",
    "c = int(input())\n",
    "while a<c:\n",
    "    b = c\n",
    "    while b>0:\n",
    "        print(b, end=\"\")\n",
    "        b = b - 1\n",
    "    print()\n",
    "    a = a + 1"
   ]
  },
  {
   "cell_type": "code",
   "execution_count": 65,
   "id": "c5e542ed",
   "metadata": {
    "scrolled": true
   },
   "outputs": [
    {
     "name": "stdout",
     "output_type": "stream",
     "text": [
      "4\n",
      "1\n",
      "23\n",
      "345\n",
      "4567\n"
     ]
    }
   ],
   "source": [
    "a = 0\n",
    "c = int(input())\n",
    "while a<c:\n",
    "    b = 0\n",
    "    d = a+1\n",
    "    while b<=a:\n",
    "        print(d, end=\"\")\n",
    "        d = d + 1\n",
    "        b = b + 1\n",
    "    print()\n",
    "    a = a + 1"
   ]
  },
  {
   "cell_type": "code",
   "execution_count": 66,
   "id": "1f0e663d",
   "metadata": {},
   "outputs": [
    {
     "data": {
      "text/plain": [
       "65"
      ]
     },
     "execution_count": 66,
     "metadata": {},
     "output_type": "execute_result"
    }
   ],
   "source": [
    "ord('A')"
   ]
  },
  {
   "cell_type": "code",
   "execution_count": 68,
   "id": "3cf67cdb",
   "metadata": {},
   "outputs": [
    {
     "data": {
      "text/plain": [
       "'B'"
      ]
     },
     "execution_count": 68,
     "metadata": {},
     "output_type": "execute_result"
    }
   ],
   "source": [
    "chr(66)"
   ]
  },
  {
   "cell_type": "code",
   "execution_count": 1,
   "id": "5b6b788a",
   "metadata": {},
   "outputs": [
    {
     "name": "stdout",
     "output_type": "stream",
     "text": [
      "89\n",
      "PASS\n"
     ]
    }
   ],
   "source": [
    "a = int(input())\n",
    "if a >= 35 :\n",
    "    print(\"PASS\")\n",
    "else :\n",
    "    print(\"Failed\")"
   ]
  },
  {
   "cell_type": "code",
   "execution_count": 2,
   "id": "9bb34d56",
   "metadata": {},
   "outputs": [
    {
     "name": "stdout",
     "output_type": "stream",
     "text": [
      "Yes it is!\n"
     ]
    }
   ],
   "source": [
    "if 9==9 :\n",
    "    print(\"Yes it is!\")"
   ]
  },
  {
   "cell_type": "code",
   "execution_count": null,
   "id": "3c47dde5",
   "metadata": {},
   "outputs": [],
   "source": []
  }
 ],
 "metadata": {
  "kernelspec": {
   "display_name": "Python 3 (ipykernel)",
   "language": "python",
   "name": "python3"
  },
  "language_info": {
   "codemirror_mode": {
    "name": "ipython",
    "version": 3
   },
   "file_extension": ".py",
   "mimetype": "text/x-python",
   "name": "python",
   "nbconvert_exporter": "python",
   "pygments_lexer": "ipython3",
   "version": "3.10.6"
  }
 },
 "nbformat": 4,
 "nbformat_minor": 5
}
