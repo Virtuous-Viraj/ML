{
 "cells": [
  {
   "cell_type": "code",
   "execution_count": 2,
   "id": "ea381cc3",
   "metadata": {},
   "outputs": [
    {
     "name": "stdout",
     "output_type": "stream",
     "text": [
      "<class 'int'>\n"
     ]
    }
   ],
   "source": [
    "a = 10\n",
    "print(type(a))"
   ]
  },
  {
   "cell_type": "code",
   "execution_count": 3,
   "id": "5b82f95d",
   "metadata": {},
   "outputs": [
    {
     "ename": "SyntaxError",
     "evalue": "incomplete input (Temp/ipykernel_6980/673803528.py, line 2)",
     "output_type": "error",
     "traceback": [
      "\u001b[1;36m  File \u001b[1;32m\"C:\\Users\\VIRAJ1~1\\AppData\\Local\\Temp/ipykernel_6980/673803528.py\"\u001b[1;36m, line \u001b[1;32m2\u001b[0m\n\u001b[1;33m    \u001b[0m\n\u001b[1;37m    ^\u001b[0m\n\u001b[1;31mSyntaxError\u001b[0m\u001b[1;31m:\u001b[0m incomplete input\n"
     ]
    }
   ],
   "source": [
    "class Student :\n",
    "    "
   ]
  },
  {
   "cell_type": "code",
   "execution_count": 4,
   "id": "fcd7ad5c",
   "metadata": {},
   "outputs": [],
   "source": [
    "class Student : \n",
    "    pass"
   ]
  },
  {
   "cell_type": "code",
   "execution_count": 6,
   "id": "76ecd903",
   "metadata": {},
   "outputs": [],
   "source": [
    "class Student :\n",
    "    pass\n",
    "s1 = Student()\n",
    "s2 = Student()\n",
    "s3 = Student()"
   ]
  },
  {
   "cell_type": "code",
   "execution_count": null,
   "id": "cb72d309",
   "metadata": {},
   "outputs": [],
   "source": []
  },
  {
   "cell_type": "code",
   "execution_count": 7,
   "id": "66f693e0",
   "metadata": {},
   "outputs": [],
   "source": [
    "#attributes can be instance attributes or class attributes\n",
    "# in Python objects can have different different number of attributes unlike Java / C++\n",
    "s1.name = \"Mohit\"\n",
    "s1.age = 20"
   ]
  },
  {
   "cell_type": "code",
   "execution_count": 8,
   "id": "d10b4176",
   "metadata": {},
   "outputs": [],
   "source": [
    "s2.rollNumber = 101"
   ]
  },
  {
   "cell_type": "code",
   "execution_count": 9,
   "id": "68dae4e8",
   "metadata": {},
   "outputs": [],
   "source": [
    "s3.age = 21"
   ]
  },
  {
   "cell_type": "code",
   "execution_count": 11,
   "id": "353ef772",
   "metadata": {},
   "outputs": [
    {
     "name": "stdout",
     "output_type": "stream",
     "text": [
      "{'name': 'Mohit', 'age': 20}\n",
      "{'rollNumber': 101}\n",
      "{'age': 21}\n"
     ]
    }
   ],
   "source": [
    "print(s1.__dict__)\n",
    "print(s2.__dict__)\n",
    "print(s3.__dict__)"
   ]
  },
  {
   "cell_type": "code",
   "execution_count": 13,
   "id": "4068feaa",
   "metadata": {},
   "outputs": [
    {
     "name": "stdout",
     "output_type": "stream",
     "text": [
      "{}\n",
      "Mohit\n"
     ]
    }
   ],
   "source": [
    "s4 = Student()\n",
    "print(s4.__dict__)\n",
    "print(s1.name)\n",
    "# print(s2.name)"
   ]
  },
  {
   "cell_type": "code",
   "execution_count": 16,
   "id": "a82f4771",
   "metadata": {},
   "outputs": [
    {
     "data": {
      "text/plain": [
       "True"
      ]
     },
     "execution_count": 16,
     "metadata": {},
     "output_type": "execute_result"
    }
   ],
   "source": [
    "hasattr(s1, 'name')"
   ]
  },
  {
   "cell_type": "code",
   "execution_count": null,
   "id": "66cece2b",
   "metadata": {},
   "outputs": [],
   "source": [
    "#setattr (obj, attr, val) \n",
    "#delattr (obj, attr)\n",
    "#getattr (obj , attr)"
   ]
  },
  {
   "cell_type": "code",
   "execution_count": 17,
   "id": "31a6c606",
   "metadata": {},
   "outputs": [
    {
     "name": "stdout",
     "output_type": "stream",
     "text": [
      "Mohit\n",
      "test\n"
     ]
    }
   ],
   "source": [
    "print(getattr(s1, 'name'))\n",
    "print(getattr(s2,'name', 'test')) #s2 doesnt has attribute called name and here we are passing tets as default attribute"
   ]
  },
  {
   "cell_type": "code",
   "execution_count": 18,
   "id": "a81f1692",
   "metadata": {},
   "outputs": [
    {
     "name": "stdout",
     "output_type": "stream",
     "text": [
      "{'age': 20}\n"
     ]
    }
   ],
   "source": [
    "delattr(s1,'name')\n",
    "print(s1.__dict__)"
   ]
  },
  {
   "cell_type": "code",
   "execution_count": null,
   "id": "e869e243",
   "metadata": {},
   "outputs": [],
   "source": [
    "# Class Attributes"
   ]
  },
  {
   "cell_type": "code",
   "execution_count": 19,
   "id": "d93b80f1",
   "metadata": {},
   "outputs": [
    {
     "name": "stdout",
     "output_type": "stream",
     "text": [
      "{'__module__': '__main__', '__dict__': <attribute '__dict__' of 'Student' objects>, '__weakref__': <attribute '__weakref__' of 'Student' objects>, '__doc__': None, 'totalStudents': 25}\n"
     ]
    }
   ],
   "source": [
    "Student.totalStudents = 25\n",
    "print(Student.__dict__)"
   ]
  },
  {
   "cell_type": "code",
   "execution_count": 23,
   "id": "c0d949de",
   "metadata": {},
   "outputs": [
    {
     "name": "stdout",
     "output_type": "stream",
     "text": [
      "{'__module__': '__main__', 'totalStudents': 20, 'classTeacher': 'Komal', '__dict__': <attribute '__dict__' of 'Student' objects>, '__weakref__': <attribute '__weakref__' of 'Student' objects>, '__doc__': None}\n"
     ]
    }
   ],
   "source": [
    "class Student : \n",
    "    totalStudents = 20\n",
    "    classTeacher = \"Komal\"\n",
    "    \n",
    "s1 = Student()\n",
    "s2 = Student()\n",
    "print(Student.__dict__)"
   ]
  },
  {
   "cell_type": "code",
   "execution_count": null,
   "id": "1b3c6993",
   "metadata": {},
   "outputs": [],
   "source": []
  },
  {
   "cell_type": "code",
   "execution_count": 21,
   "id": "d4f0db0d",
   "metadata": {},
   "outputs": [
    {
     "name": "stdout",
     "output_type": "stream",
     "text": [
      "{}\n",
      "{}\n"
     ]
    }
   ],
   "source": [
    "print(s1.__dict__)\n",
    "print(s2.__dict__)"
   ]
  },
  {
   "cell_type": "code",
   "execution_count": 24,
   "id": "53bff004",
   "metadata": {},
   "outputs": [
    {
     "name": "stdout",
     "output_type": "stream",
     "text": [
      "20\n",
      "20\n"
     ]
    }
   ],
   "source": [
    "# Can we access class attributes using instance attributes ? -> Yes, Why not?\n",
    "\n",
    "print(Student.totalStudents)\n",
    "print(s1.totalStudents)"
   ]
  },
  {
   "cell_type": "code",
   "execution_count": 28,
   "id": "5cd4673a",
   "metadata": {},
   "outputs": [],
   "source": [
    "Student.totalStudents = 30"
   ]
  },
  {
   "cell_type": "code",
   "execution_count": 26,
   "id": "bcc09567",
   "metadata": {},
   "outputs": [
    {
     "name": "stdout",
     "output_type": "stream",
     "text": [
      "30\n",
      "30\n",
      "30\n"
     ]
    }
   ],
   "source": [
    "print(Student.totalStudents)\n",
    "print(s1.totalStudents)\n",
    "print(s2.totalStudents)"
   ]
  },
  {
   "cell_type": "code",
   "execution_count": 42,
   "id": "6ba2af2b",
   "metadata": {},
   "outputs": [
    {
     "name": "stdout",
     "output_type": "stream",
     "text": [
      "{'totalStudents': 40}\n",
      "{}\n"
     ]
    }
   ],
   "source": [
    "print(s1.__dict__)\n",
    "print(s2.__dict__)"
   ]
  },
  {
   "cell_type": "code",
   "execution_count": 41,
   "id": "1a77bcb4",
   "metadata": {},
   "outputs": [
    {
     "name": "stdout",
     "output_type": "stream",
     "text": [
      "30\n",
      "40\n",
      "30\n"
     ]
    }
   ],
   "source": [
    "s1.totalStudents = 40 # if we modify using instance then it will be changed only for that instance and not for the class\n",
    "print(Student.totalStudents)\n",
    "print(s1.totalStudents)\n",
    "print(s2.totalStudents)"
   ]
  },
  {
   "cell_type": "code",
   "execution_count": 40,
   "id": "83d5935f",
   "metadata": {},
   "outputs": [
    {
     "name": "stdout",
     "output_type": "stream",
     "text": [
      "hey\n"
     ]
    }
   ],
   "source": [
    "print(\"hey\")"
   ]
  },
  {
   "cell_type": "markdown",
   "id": "657f4c84",
   "metadata": {},
   "source": [
    "# Methods are of : \n",
    "# Instance Methods\n",
    "# Class Methods\n",
    "# Static Methods"
   ]
  },
  {
   "cell_type": "code",
   "execution_count": 71,
   "id": "43420b60",
   "metadata": {},
   "outputs": [],
   "source": [
    "class Student :\n",
    "    ##class attributes\n",
    "    totalStudents = 20\n",
    "    classTeachersName = 'komal'\n",
    "    \n",
    "    ##Instance methods\n",
    "    def printHello(self) :\n",
    "        print(\"Hello\")\n",
    "       \n",
    "    def print(self, str):\n",
    "        print(str)\n",
    "        \n",
    "    def printName(self):\n",
    "        print(self.name)\n",
    "        \n",
    "    def addName(self, name):\n",
    "        self.name = name\n",
    "        \n",
    "    def test(self):\n",
    "        Student.totalStudents = 25\n",
    "        print(Student.totalStudents)\n",
    "        Student.test_class = 90\n",
    "s1 = Student()\n",
    "s2 = Student()"
   ]
  },
  {
   "cell_type": "code",
   "execution_count": 56,
   "id": "83ac4333",
   "metadata": {},
   "outputs": [
    {
     "name": "stdout",
     "output_type": "stream",
     "text": [
      "Hello\n",
      "Hi\n"
     ]
    }
   ],
   "source": [
    "s1.printHello()\n",
    "\n",
    "#interpreted as Student.printhello(s1)\n",
    "#we can pass this explicitly but we have to recieve it implicitly\n",
    "s1.print(\"Hi\")"
   ]
  },
  {
   "cell_type": "code",
   "execution_count": 62,
   "id": "7bc0a6a6",
   "metadata": {},
   "outputs": [],
   "source": [
    "s1.name = \"Mohit\""
   ]
  },
  {
   "cell_type": "code",
   "execution_count": 55,
   "id": "759e149a",
   "metadata": {},
   "outputs": [
    {
     "name": "stdout",
     "output_type": "stream",
     "text": [
      "Hello\n",
      "Hello\n"
     ]
    }
   ],
   "source": [
    "# Lets try to call using class\n",
    "\n",
    "Student.printHello(s1)\n",
    "Student.printHello(s2)"
   ]
  },
  {
   "cell_type": "code",
   "execution_count": 64,
   "id": "7e593966",
   "metadata": {},
   "outputs": [
    {
     "name": "stdout",
     "output_type": "stream",
     "text": [
      "Mohit\n"
     ]
    }
   ],
   "source": [
    "Student.printName(s1)\n",
    "# Student.printName(s2)"
   ]
  },
  {
   "cell_type": "markdown",
   "id": "566fe884",
   "metadata": {},
   "source": [
    "# Instance Methods"
   ]
  },
  {
   "cell_type": "code",
   "execution_count": 66,
   "id": "efc167e7",
   "metadata": {},
   "outputs": [
    {
     "name": "stdout",
     "output_type": "stream",
     "text": [
      "{}\n",
      "{}\n"
     ]
    }
   ],
   "source": [
    "print(s1.__dict__)\n",
    "print(s2.__dict__)"
   ]
  },
  {
   "cell_type": "code",
   "execution_count": 67,
   "id": "f7993256",
   "metadata": {},
   "outputs": [],
   "source": [
    "s1.addName('Mohit')"
   ]
  },
  {
   "cell_type": "code",
   "execution_count": 69,
   "id": "552affff",
   "metadata": {},
   "outputs": [
    {
     "name": "stdout",
     "output_type": "stream",
     "text": [
      "{'name': 'Mohit'}\n",
      "{}\n"
     ]
    }
   ],
   "source": [
    "print(s1.__dict__)\n",
    "print(s2.__dict__)"
   ]
  },
  {
   "cell_type": "code",
   "execution_count": 70,
   "id": "c359ff1e",
   "metadata": {},
   "outputs": [
    {
     "name": "stdout",
     "output_type": "stream",
     "text": [
      "{'name': 'Aman'}\n",
      "{}\n"
     ]
    }
   ],
   "source": [
    "s1.addName('Aman')\n",
    "print(s1.__dict__)\n",
    "print(s2.__dict__)"
   ]
  },
  {
   "cell_type": "code",
   "execution_count": 72,
   "id": "402d064c",
   "metadata": {},
   "outputs": [
    {
     "name": "stdout",
     "output_type": "stream",
     "text": [
      "{'__module__': '__main__', 'totalStudents': 20, 'classTeachersName': 'komal', 'printHello': <function Student.printHello at 0x00000274AD8C3130>, 'print': <function Student.print at 0x00000274AD8C2E60>, 'printName': <function Student.printName at 0x00000274AD8C35B0>, 'addName': <function Student.addName at 0x00000274AD8C3370>, 'test': <function Student.test at 0x00000274AD8C3520>, '__dict__': <attribute '__dict__' of 'Student' objects>, '__weakref__': <attribute '__weakref__' of 'Student' objects>, '__doc__': None}\n"
     ]
    }
   ],
   "source": [
    "print(Student.__dict__)"
   ]
  },
  {
   "cell_type": "markdown",
   "id": "5e93c046",
   "metadata": {},
   "source": [
    "# Constructor"
   ]
  },
  {
   "cell_type": "code",
   "execution_count": 81,
   "id": "aad2acb3",
   "metadata": {},
   "outputs": [],
   "source": [
    "class Student :\n",
    "    ##class attributes\n",
    "    totalStudents = 20\n",
    "    classTeachersName = 'komal'\n",
    "    \n",
    "    def __init__(self, name, rollNumber, age=20):\n",
    "#         print(\"Constructed is called\")\n",
    "#         pass\n",
    "        self.__name = name\n",
    "        self.age = age\n",
    "        self.rollNumber = rollNumber\n",
    "    ##Instance methods\n",
    "    def printHello(self) :\n",
    "        print(\"Hello\")\n",
    "       \n",
    "    def print(self, str):\n",
    "        print(str)\n",
    "        \n",
    "    def printName(self):\n",
    "        print(self.name)\n",
    "        \n",
    "    def addName(self, name):\n",
    "        self.name = name\n",
    "        \n",
    "    def test(self):\n",
    "        Student.totalStudents = 25\n",
    "        print(Student.totalStudents)\n",
    "        Student.test_class = 90\n",
    "# s1 = Student()\n",
    "# s2 = Student()"
   ]
  },
  {
   "cell_type": "code",
   "execution_count": 82,
   "id": "f05399ba",
   "metadata": {},
   "outputs": [
    {
     "name": "stdout",
     "output_type": "stream",
     "text": [
      "{'name': 'Mohit', 'age': 20, 'rollNumber': 10}\n",
      "{'name': 'Viraj', 'age': 30, 'rollNumber': 40}\n"
     ]
    }
   ],
   "source": [
    "print(s1.__dict__)\n",
    "print(s2.__dict__)"
   ]
  },
  {
   "cell_type": "code",
   "execution_count": 84,
   "id": "705499ab",
   "metadata": {},
   "outputs": [],
   "source": [
    "s1 = Student(\"Mohit\", 20, 10)\n",
    "s2 = Student(\"Viraj\", 30, 40)\n",
    "s3 = Student(\"Viraj\",40)"
   ]
  },
  {
   "cell_type": "markdown",
   "id": "b139cec7",
   "metadata": {},
   "source": [
    "# Access Modifiers in Python"
   ]
  },
  {
   "cell_type": "code",
   "execution_count": 4,
   "id": "c15a2713",
   "metadata": {},
   "outputs": [],
   "source": [
    "#three types : private, public, protected\n",
    "#private : inside class\n",
    "#public : everywhere\n",
    "#protected : inside class and its subclass\n",
    "# -- : private\n",
    "# - : protected\n",
    "\n",
    "class Student :\n",
    "    ##class attributes\n",
    "    totalStudents = 20\n",
    "    classTeachersName = 'Komal'\n",
    "    \n",
    "    def __init__(self, name, rollNumber, age=20):\n",
    "#         print(\"Constructed is called\")\n",
    "#         pass\n",
    "        self.__name = name\n",
    "        self.age = age\n",
    "        self.rollNumber = rollNumber\n",
    "    ##Instance methods\n",
    "    def printHello(self) :\n",
    "        print(\"Hello\")\n",
    "       \n",
    "    def getName(self, name):\n",
    "        return self.__name = name\n",
    "    \n",
    "    def setName(self):\n",
    "        self.__name = \n",
    "    def print(self, str):\n",
    "        print(str)\n",
    "        \n",
    "    def printName(self):\n",
    "        print(self.name)\n",
    "        \n",
    "    def addName(self, name):\n",
    "        self.name = name\n",
    "        \n",
    "    def test(self):\n",
    "        Student.totalStudents = 25\n",
    "        print(Student.totalStudents)\n",
    "        Student.test_class = 90\n",
    "s1 = Student(\"Viraj\",89)\n",
    "# s2 = Student()"
   ]
  },
  {
   "cell_type": "code",
   "execution_count": 3,
   "id": "ed8c9a0f",
   "metadata": {
    "scrolled": true
   },
   "outputs": [
    {
     "ename": "AttributeError",
     "evalue": "'Student' object has no attribute 'name'",
     "output_type": "error",
     "traceback": [
      "\u001b[1;31m---------------------------------------------------------------------------\u001b[0m",
      "\u001b[1;31mAttributeError\u001b[0m                            Traceback (most recent call last)",
      "\u001b[1;32mC:\\Users\\VIRAJ1~1\\AppData\\Local\\Temp/ipykernel_6160/2416388422.py\u001b[0m in \u001b[0;36m<module>\u001b[1;34m\u001b[0m\n\u001b[1;32m----> 1\u001b[1;33m \u001b[0mprint\u001b[0m\u001b[1;33m(\u001b[0m\u001b[0ms1\u001b[0m\u001b[1;33m.\u001b[0m\u001b[0mname\u001b[0m\u001b[1;33m)\u001b[0m\u001b[1;33m\u001b[0m\u001b[1;33m\u001b[0m\u001b[0m\n\u001b[0m",
      "\u001b[1;31mAttributeError\u001b[0m: 'Student' object has no attribute 'name'"
     ]
    }
   ],
   "source": [
    "print(s1.name)"
   ]
  },
  {
   "cell_type": "code",
   "execution_count": 5,
   "id": "20e0f456",
   "metadata": {},
   "outputs": [
    {
     "name": "stdout",
     "output_type": "stream",
     "text": [
      "Viraj\n"
     ]
    }
   ],
   "source": [
    "print(s1.getName())"
   ]
  },
  {
   "cell_type": "markdown",
   "id": "5239bbb9",
   "metadata": {},
   "source": [
    "# Static Methods"
   ]
  },
  {
   "cell_type": "code",
   "execution_count": 20,
   "id": "e0976201",
   "metadata": {},
   "outputs": [],
   "source": [
    "class Student :\n",
    "    ##class attributes\n",
    "    __totalStudents = 20\n",
    "    classTeachersName = 'Komal'\n",
    "    \n",
    "    def getTotalStudents(self):\n",
    "        return Student.__totalStudents\n",
    "        \n",
    "    def __init__(self, name, rollNumber, age=20):\n",
    "#         print(\"Constructed is called\")\n",
    "#         pass\n",
    "        self.__name = name\n",
    "        self.age = age\n",
    "        self.rollNumber = rollNumber\n",
    "    ##Instance methods\n",
    "    def printHello(self) :\n",
    "        print(\"Hello\")\n",
    "       \n",
    "    def getName(self, name):\n",
    "         self.__name = name\n",
    "         return name\n",
    "    \n",
    "    def setName(self):\n",
    "        self.__name = name\n",
    "    def print(self, str):\n",
    "        print(str)\n",
    "        \n",
    "    def printName(self):\n",
    "        print(self.name)\n",
    "        \n",
    "    def addName(self, name):\n",
    "        self.name = name\n",
    "        \n",
    "    def test(self):\n",
    "        Student.totalStudents = 25\n",
    "        print(Student.totalStudents)\n",
    "        Student.test_class = 90\n",
    "s1 = Student(\"Viraj\",89)\n",
    "# s2 = Student()\n",
    "\n"
   ]
  },
  {
   "cell_type": "code",
   "execution_count": 21,
   "id": "807308d7",
   "metadata": {},
   "outputs": [
    {
     "ename": "TypeError",
     "evalue": "Student.getTotalStudents() missing 1 required positional argument: 'self'",
     "output_type": "error",
     "traceback": [
      "\u001b[1;31m---------------------------------------------------------------------------\u001b[0m",
      "\u001b[1;31mTypeError\u001b[0m                                 Traceback (most recent call last)",
      "\u001b[1;32mC:\\Users\\VIRAJ1~1\\AppData\\Local\\Temp/ipykernel_6160/1084731195.py\u001b[0m in \u001b[0;36m<module>\u001b[1;34m\u001b[0m\n\u001b[1;32m----> 1\u001b[1;33m \u001b[0mprint\u001b[0m\u001b[1;33m(\u001b[0m\u001b[0mStudent\u001b[0m\u001b[1;33m.\u001b[0m\u001b[0mgetTotalStudents\u001b[0m\u001b[1;33m(\u001b[0m\u001b[1;33m)\u001b[0m\u001b[1;33m)\u001b[0m\u001b[1;33m\u001b[0m\u001b[1;33m\u001b[0m\u001b[0m\n\u001b[0m",
      "\u001b[1;31mTypeError\u001b[0m: Student.getTotalStudents() missing 1 required positional argument: 'self'"
     ]
    }
   ],
   "source": [
    "print(Student.getTotalStudents())"
   ]
  },
  {
   "cell_type": "code",
   "execution_count": 22,
   "id": "8b7206b4",
   "metadata": {},
   "outputs": [
    {
     "data": {
      "text/plain": [
       "20"
      ]
     },
     "execution_count": 22,
     "metadata": {},
     "output_type": "execute_result"
    }
   ],
   "source": [
    "s1.getTotalStudents()"
   ]
  },
  {
   "cell_type": "code",
   "execution_count": null,
   "id": "6300338e",
   "metadata": {},
   "outputs": [],
   "source": []
  }
 ],
 "metadata": {
  "kernelspec": {
   "display_name": "Python 3 (ipykernel)",
   "language": "python",
   "name": "python3"
  },
  "language_info": {
   "codemirror_mode": {
    "name": "ipython",
    "version": 3
   },
   "file_extension": ".py",
   "mimetype": "text/x-python",
   "name": "python",
   "nbconvert_exporter": "python",
   "pygments_lexer": "ipython3",
   "version": "3.10.6"
  }
 },
 "nbformat": 4,
 "nbformat_minor": 5
}
