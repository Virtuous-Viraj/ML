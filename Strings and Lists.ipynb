{
 "cells": [
  {
   "cell_type": "code",
   "execution_count": 1,
   "id": "12a84651",
   "metadata": {},
   "outputs": [],
   "source": [
    "a = \"abc def\""
   ]
  },
  {
   "cell_type": "code",
   "execution_count": 2,
   "id": "f1c11b8b",
   "metadata": {},
   "outputs": [
    {
     "data": {
      "text/plain": [
       "' '"
      ]
     },
     "execution_count": 2,
     "metadata": {},
     "output_type": "execute_result"
    }
   ],
   "source": [
    "a[3]"
   ]
  },
  {
   "cell_type": "code",
   "execution_count": 3,
   "id": "9483bd7c",
   "metadata": {},
   "outputs": [
    {
     "data": {
      "text/plain": [
       "'a'"
      ]
     },
     "execution_count": 3,
     "metadata": {},
     "output_type": "execute_result"
    }
   ],
   "source": [
    "a[0]"
   ]
  },
  {
   "cell_type": "code",
   "execution_count": 4,
   "id": "395aea5c",
   "metadata": {},
   "outputs": [],
   "source": [
    "a = \"This is Viraj's House\""
   ]
  },
  {
   "cell_type": "code",
   "execution_count": 5,
   "id": "64a2842c",
   "metadata": {},
   "outputs": [],
   "source": [
    "a = 'This is Viraj\\'s House'"
   ]
  },
  {
   "cell_type": "code",
   "execution_count": 7,
   "id": "fb8d0832",
   "metadata": {},
   "outputs": [],
   "source": [
    "a = 'This is \"Viraj\\'s\" House'"
   ]
  },
  {
   "cell_type": "code",
   "execution_count": 8,
   "id": "a6581604",
   "metadata": {},
   "outputs": [
    {
     "data": {
      "text/plain": [
       "['this', 'is', 'not', 'your', 'business']"
      ]
     },
     "execution_count": 8,
     "metadata": {},
     "output_type": "execute_result"
    }
   ],
   "source": [
    "a = \"this is not your business\"\n",
    "a.split()"
   ]
  },
  {
   "cell_type": "code",
   "execution_count": 10,
   "id": "dd5822ff",
   "metadata": {},
   "outputs": [
    {
     "data": {
      "text/plain": [
       "'thare are not your business'"
      ]
     },
     "execution_count": 10,
     "metadata": {},
     "output_type": "execute_result"
    }
   ],
   "source": [
    "a = a.replace(\"is\", \"are\")\n",
    "a"
   ]
  },
  {
   "cell_type": "code",
   "execution_count": 13,
   "id": "f242c146",
   "metadata": {},
   "outputs": [
    {
     "name": "stdout",
     "output_type": "stream",
     "text": [
      "ii\n"
     ]
    }
   ],
   "source": [
    "a = \"Thisis skip\"\n",
    "print(a[2:6:2]) #start end jump/skip"
   ]
  },
  {
   "cell_type": "code",
   "execution_count": 14,
   "id": "9fa536af",
   "metadata": {},
   "outputs": [],
   "source": [
    "a = \"This is slicing\""
   ]
  },
  {
   "cell_type": "code",
   "execution_count": 15,
   "id": "7d40c905",
   "metadata": {},
   "outputs": [
    {
     "data": {
      "text/plain": [
       "'is '"
      ]
     },
     "execution_count": 15,
     "metadata": {},
     "output_type": "execute_result"
    }
   ],
   "source": [
    "a[2:5]"
   ]
  },
  {
   "cell_type": "code",
   "execution_count": 17,
   "id": "b508ddcd",
   "metadata": {},
   "outputs": [
    {
     "data": {
      "text/plain": [
       "'ils si s'"
      ]
     },
     "execution_count": 17,
     "metadata": {},
     "output_type": "execute_result"
    }
   ],
   "source": [
    "a[10:2:-1]"
   ]
  },
  {
   "cell_type": "code",
   "execution_count": 5,
   "id": "e0c161f1",
   "metadata": {},
   "outputs": [
    {
     "name": "stdout",
     "output_type": "stream",
     "text": [
      "abxcdxe\n"
     ]
    },
    {
     "data": {
      "text/plain": [
       "'abycdye'"
      ]
     },
     "execution_count": 5,
     "metadata": {},
     "output_type": "execute_result"
    }
   ],
   "source": [
    "#Replace first occurence of character in string\n",
    "s = input()\n",
    "a = 'x'\n",
    "b = 'y'\n",
    "for i in range(0, len(s)):\n",
    "    if s[i] == a:\n",
    "        ans = s[:i]+b+s[i+1:]\n",
    "        s = ans\n",
    "        \n",
    "ans"
   ]
  },
  {
   "cell_type": "code",
   "execution_count": null,
   "id": "9d8c5aa6",
   "metadata": {},
   "outputs": [],
   "source": []
  },
  {
   "cell_type": "code",
   "execution_count": null,
   "id": "dd928199",
   "metadata": {},
   "outputs": [],
   "source": []
  },
  {
   "cell_type": "code",
   "execution_count": null,
   "id": "683f88a6",
   "metadata": {},
   "outputs": [],
   "source": []
  }
 ],
 "metadata": {
  "kernelspec": {
   "display_name": "Python 3 (ipykernel)",
   "language": "python",
   "name": "python3"
  },
  "language_info": {
   "codemirror_mode": {
    "name": "ipython",
    "version": 3
   },
   "file_extension": ".py",
   "mimetype": "text/x-python",
   "name": "python",
   "nbconvert_exporter": "python",
   "pygments_lexer": "ipython3",
   "version": "3.10.6"
  }
 },
 "nbformat": 4,
 "nbformat_minor": 5
}
